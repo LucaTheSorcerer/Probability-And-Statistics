{
 "cells": [
  {
   "cell_type": "code",
   "execution_count": 4,
   "metadata": {},
   "outputs": [],
   "source": [
    "import numpy as np\n",
    "import matplotlib.pyplot as plt\n",
    "from scipy.stats import uniform"
   ]
  },
  {
   "cell_type": "code",
   "execution_count": 5,
   "metadata": {},
   "outputs": [
    {
     "name": "stdout",
     "output_type": "stream",
     "text": [
      "a1) P(14 <= X <= 18) = 0.382\n",
      "a2) P(X < 15) = 0.499\n",
      "a3) P(X < 15 or X > 17) = 0.8125\n",
      "Theoretical a1) P(14 <= X <= 18) = 0.4\n",
      "Theoretical a2) P(X < 15) = 0.5\n",
      "Theoretical a3) P(X < 15 or X > 17) = 0.8\n",
      "Theoretical a1) P(14 <= X <= 18) = 0.4\n",
      "Theoretical a2) P(X < 15) = 0.5\n",
      "Theoretical a3) P(X < 15 or X > 17) = 0.8\n"
     ]
    },
    {
     "data": {
      "image/png": "[encoded data removed]",
      "text/plain": [
       "<Figure size 640x480 with 1 Axes>"
      ]
     },
     "metadata": {},
     "output_type": "display_data"
    }
   ],
   "source": [
    "np.random.seed(0)\n",
    "X = np.random.uniform(10, 20, 2000)\n",
    "\n",
    "a1 = np.mean((14 <= X) & (X <= 18))\n",
    "\n",
    "a2 = np.mean(X < 15)\n",
    "\n",
    "a3 = np.mean((X < 15) | (X > 17))\n",
    "\n",
    "print(f\"a1) P(14 <= X <= 18) = {a1}\")\n",
    "print(f\"a2) P(X < 15) = {a2}\")\n",
    "print(f\"a3) P(X < 15 or X > 17) = {a3}\")\n",
    "\n",
    "\n",
    "# The range of the distribution is from 10 to 20, so its length is 20 - 10 = 10\n",
    "total_length = 20 - 10\n",
    "\n",
    "# a1) Theoretical P(14 <= X <= 18)\n",
    "# The length of the interval where this event occurs is 18 - 14 = 4\n",
    "length_a1 = 18 - 14\n",
    "theoretical_a1 = length_a1 / total_length\n",
    "print(f\"Theoretical a1) P(14 <= X <= 18) = {theoretical_a1}\")\n",
    "\n",
    "# a2) Theoretical P(X < 15)\n",
    "# The length of the interval where this event occurs is 15 - 10 = 5\n",
    "length_a2 = 15 - 10\n",
    "theoretical_a2 = length_a2 / total_length\n",
    "print(f\"Theoretical a2) P(X < 15) = {theoretical_a2}\")\n",
    "\n",
    "# a3) Theoretical P(X < 15 or X > 17)\n",
    "# This event occurs in two intervals, so we add their lengths\n",
    "# The lengths are 15 - 10 = 5 and 20 - 17 = 3\n",
    "length_a3 = (15 - 10) + (20 - 17)\n",
    "theoretical_a3 = length_a3 / total_length\n",
    "print(f\"Theoretical a3) P(X < 15 or X > 17) = {theoretical_a3}\")\n",
    "\n",
    "\n",
    "\n",
    "\n",
    "\n",
    "\n",
    "# Define the parameters of the uniform distribution\n",
    "loc = 10  # The start of the interval\n",
    "scale = 10  # The end of the interval is loc + scale\n",
    "\n",
    "# a1) Theoretical P(14 <= X <= 18)\n",
    "# This is the difference between the CDF at 18 and the CDF at 14\n",
    "theoretical_a1 = uniform.cdf(18, loc, scale) - uniform.cdf(14, loc, scale)\n",
    "print(f\"Theoretical a1) P(14 <= X <= 18) = {theoretical_a1}\")\n",
    "\n",
    "# a2) Theoretical P(X < 15)\n",
    "# This is simply the CDF at 15\n",
    "theoretical_a2 = uniform.cdf(15, loc, scale)\n",
    "print(f\"Theoretical a2) P(X < 15) = {theoretical_a2}\")\n",
    "\n",
    "# a3) Theoretical P(X < 15 or X > 17)\n",
    "# This is 1 minus the probability of the complementary event (15 <= X <= 17)\n",
    "theoretical_a3 = 1 - (uniform.cdf(17, loc, scale) - uniform.cdf(15, loc, scale))\n",
    "print(f\"Theoretical a3) P(X < 15 or X > 17) = {theoretical_a3}\")\n",
    "\n",
    "plt.hist(X, bins=10, edgecolor='black')\n",
    "plt.xlabel('Processing time')\n",
    "plt.ylabel('Frequency')\n",
    "plt.title('Histogram of processing times')\n",
    "plt.show()\n",
    "\n",
    "\n"
   ]
  },
  {
   "cell_type": "code",
   "execution_count": null,
   "metadata": {},
   "outputs": [],
   "source": []
  }
 ],
 "metadata": {
  "kernelspec": {
   "display_name": "tensyflow",
   "language": "python",
   "name": "python3"
  },
  "language_info": {
   "codemirror_mode": {
    "name": "ipython",
    "version": 3
   },
   "file_extension": ".py",
   "mimetype": "text/x-python",
   "name": "python",
   "nbconvert_exporter": "python",
   "pygments_lexer": "ipython3",
   "version": "3.10.13"
  }
 },
 "nbformat": 4,
 "nbformat_minor": 2
}
