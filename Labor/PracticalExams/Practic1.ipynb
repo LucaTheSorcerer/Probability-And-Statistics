{
 "cells": [
  {
   "cell_type": "code",
   "execution_count": 9,
   "metadata": {},
   "outputs": [],
   "source": [
    "import random\n",
    "\n",
    "import numpy as np\n",
    "import matplotlib.pyplot as plt\n",
    "import numpy as np\n",
    "import matplotlib.pyplot as plt\n",
    "from scipy.stats import binom\n",
    "\n",
    "from matplotlib.pyplot import grid, xticks, show, ylabel, xlabel, title, hist, bar, legend\n",
    "from numpy import random, argmax, array, mean, arange\n",
    "from scipy.stats import binom\n",
    "from itertools import permutations\n"
   ]
  },
  {
   "cell_type": "markdown",
   "metadata": {},
   "source": [
    "# Cerinta - Luca Tudor, grupa 722/2\n",
    "\n",
    "a) Aus der Menge {2, 3, 4, 5, 6, 7, 8} ennimment man zufallig umid mit zurucklegen 4 Zahlen. Die Zufallsgrosse X ist die Anzahl der geraden Zahlen unter diesen 4 Werten (z.B. [4, 4, 7, 4] => X = 3; [5, 7, 3, 3] => X = 0 usw.)\n",
    "Man generiere 2000 zufallige werten fur die zufallsgrosse X\n",
    "Man gebe jeden mogliche Wert von X an und die entsprechende absolute haufigkeit\n",
    "b). man zeichne das histogram der absoluten haufigkeiten von den 2000 simulierten werten fur x\n",
    "c). Man schatze die wahrscheinlichkeit P(x=0) und gebe den theoretischen Wert an fur P(X=0)\n",
    "d.) Man generiere alle Permutationen gebildet aus den 4 zahlen der Menge {2, 3, 4, 5} (dh. die zahlen durfen sich nicht wiederholen und die reihenfolge wird berucksichtig). man gebe die gesamte anzahl dieser permutationen an."
   ]
  },
  {
   "cell_type": "code",
   "execution_count": 55,
   "metadata": {},
   "outputs": [
    {
     "name": "stdout",
     "output_type": "stream",
     "text": [
      "[3, 1, 1, 3, 4, 3, 3, 2, 4, 1, 2, 1, 3, 3, 3, 3, 2, 0, 3, 3, 3, 2, 2, 2, 3, 2, 4, 1, 2, 3, 4, 3, 3, 4, 3, 3, 2, 1, 2, 2, 3, 3, 1, 3, 2, 3, 1, 4, 3, 1, 3, 2, 4, 2, 2, 1, 2, 3, 2, 2, 2, 3, 3, 2, 3, 1, 2, 1, 3, 2, 3, 4, 2, 3, 2, 2, 2, 2, 4, 2, 3, 1, 2, 3, 2, 1, 2, 1, 3, 2, 1, 2, 3, 3, 3, 2, 3, 3, 3, 1, 2, 2, 2, 3, 3, 4, 2, 2, 1, 2, 3, 4, 3, 2, 2, 3, 3, 1, 2, 2, 2, 0, 2, 2, 4, 2, 1, 1, 2, 2, 2, 3, 3, 2, 4, 1, 3, 3, 2, 3, 3, 4, 2, 1, 2, 1, 3, 3, 3, 3, 3, 3, 1, 2, 1, 1, 4, 1, 3, 2, 2, 3, 3, 1, 2, 2, 2, 2, 2, 2, 2, 2, 3, 3, 3, 3, 3, 1, 3, 4, 1, 2, 2, 3, 3, 2, 1, 3, 3, 3, 2, 3, 3, 1, 3, 2, 2, 1, 2, 4, 2, 2, 2, 4, 2, 3, 1, 2, 2, 3, 2, 4, 2, 0, 1, 1, 1, 4, 3, 2, 3, 2, 2, 4, 2, 3, 4, 2, 3, 2, 4, 2, 4, 2, 2, 1, 3, 2, 4, 3, 3, 1, 2, 2, 2, 3, 1, 2, 1, 1, 3, 3, 2, 4, 3, 2, 3, 1, 3, 4, 1, 3, 2, 3, 2, 3, 2, 2, 2, 1, 3, 3, 3, 3, 3, 2, 2, 2, 3, 3, 2, 2, 2, 3, 3, 2, 1, 1, 2, 2, 1, 3, 3, 2, 3, 3, 2, 3, 2, 2, 3, 2, 3, 2, 3, 3, 2, 2, 1, 1, 3, 2, 2, 4, 4, 3, 3, 4, 3, 2, 2, 3, 4, 2, 2, 2, 1, 2, 3, 1, 2, 4, 2, 4, 2, 2, 1, 3, 2, 4, 1, 2, 1, 0, 3, 0, 1, 3, 1, 3, 3, 4, 1, 3, 2, 3, 3, 0, 2, 2, 2, 1, 2, 0, 1, 1, 2, 1, 2, 2, 2, 4, 2, 2, 3, 1, 2, 4, 3, 3, 3, 1, 2, 3, 3, 3, 1, 3, 4, 3, 3, 3, 3, 2, 2, 0, 1, 3, 4, 3, 2, 4, 1, 2, 4, 0, 2, 2, 2, 1, 2, 3, 0, 2, 1, 2, 3, 2, 1, 0, 1, 3, 3, 3, 1, 3, 1, 2, 2, 0, 1, 2, 1, 1, 3, 1, 3, 2, 3, 4, 4, 1, 1, 3, 2, 4, 2, 1, 1, 3, 2, 4, 3, 3, 3, 4, 1, 2, 3, 2, 2, 4, 3, 2, 3, 3, 3, 2, 2, 2, 4, 4, 2, 2, 3, 2, 3, 2, 1, 2, 4, 1, 3, 1, 2, 3, 1, 2, 3, 1, 3, 2, 1, 3, 3, 2, 3, 2, 2, 2, 3, 2, 0, 3, 3, 2, 3, 2, 3, 3, 1, 3, 3, 3, 3, 3, 1, 3, 1, 2, 3, 2, 2, 3, 3, 3, 2, 4, 1, 3, 2, 4, 2, 1, 1, 3, 1, 1, 2, 2, 2, 2, 1, 4, 3, 3, 2, 2, 2, 1, 3, 2, 0, 2, 2, 2, 4, 3, 0, 4, 2, 3, 2, 1, 1, 1, 3, 1, 3, 1, 2, 3, 4, 4, 1, 2, 4, 2, 3, 2, 1, 4, 3, 2, 4, 3, 3, 0, 2, 3, 3, 3, 1, 1, 2, 0, 2, 2, 2, 1, 4, 2, 0, 3, 3, 3, 2, 1, 4, 3, 2, 2, 2, 4, 2, 3, 1, 2, 2, 1, 2, 2, 1, 3, 0, 2, 2, 1, 2, 2, 4, 3, 2, 3, 4, 2, 3, 3, 3, 3, 2, 2, 2, 3, 3, 2, 2, 2, 2, 4, 3, 3, 2, 1, 1, 2, 3, 0, 3, 2, 0, 2, 3, 1, 2, 2, 0, 2, 3, 3, 2, 2, 1, 2, 3, 3, 4, 2, 1, 1, 3, 3, 3, 1, 2, 3, 4, 3, 1, 4, 2, 2, 1, 3, 2, 3, 1, 3, 4, 2, 1, 2, 1, 3, 1, 1, 2, 3, 4, 4, 3, 3, 3, 3, 1, 3, 3, 3, 2, 3, 3, 1, 3, 2, 2, 4, 3, 3, 1, 2, 2, 3, 2, 2, 3, 2, 3, 3, 3, 2, 4, 2, 2, 1, 1, 3, 1, 2, 1, 2, 4, 1, 2, 1, 1, 2, 2, 3, 4, 2, 1, 4, 3, 1, 1, 3, 1, 2, 2, 2, 2, 3, 4, 1, 3, 3, 1, 3, 2, 1, 3, 3, 2, 0, 1, 4, 2, 0, 4, 4, 2, 3, 3, 0, 3, 0, 3, 1, 2, 2, 0, 2, 2, 4, 1, 2, 2, 1, 2, 2, 2, 2, 2, 1, 3, 4, 2, 3, 2, 2, 2, 1, 3, 3, 4, 1, 2, 4, 2, 3, 4, 2, 4, 2, 1, 2, 2, 2, 1, 1, 1, 2, 3, 2, 3, 2, 2, 2, 3, 0, 3, 1, 3, 0, 1, 3, 2, 4, 2, 4, 2, 4, 2, 1, 1, 4, 3, 2, 2, 1, 1, 2, 2, 1, 3, 1, 4, 2, 1, 0, 3, 2, 2, 4, 3, 3, 2, 3, 2, 3, 2, 3, 3, 2, 1, 1, 2, 4, 2, 4, 2, 2, 2, 3, 3, 3, 2, 3, 2, 3, 2, 1, 1, 2, 4, 2, 0, 3, 2, 1, 1, 3, 3, 2, 2, 3, 3, 2, 2, 2, 2, 2, 3, 3, 2, 2, 2, 3, 2, 1, 2, 3, 2, 3, 2, 1, 1, 1, 1, 2, 2, 4, 4, 2, 3, 1, 2, 2, 3, 4, 0, 1, 1, 3, 2, 1, 1, 2, 2, 1, 2, 3, 1, 3, 4, 3, 3, 3, 2, 2, 2, 4, 2, 2, 1, 0, 2, 1, 2, 1, 2, 3, 3, 4, 2, 2, 3, 1, 4, 2, 3, 2, 2, 3, 2, 2, 3, 3, 4, 2, 3, 3, 3, 3, 3, 3, 2, 2, 2, 0, 4, 3, 2, 2, 3, 3, 2, 2, 0, 3, 4, 1, 3, 3, 0, 3, 3, 2, 2, 3, 3, 4, 2, 1, 1, 2, 2, 4, 3, 3, 3, 2, 2, 2, 4, 2, 1, 2, 3, 0, 1, 1, 2, 2, 2, 2, 2, 1, 2, 3, 1, 1, 4, 4, 3, 3, 3, 1, 2, 3, 1, 2, 3, 1, 4, 1, 3, 1, 3, 4, 2, 4, 3, 2, 3, 3, 3, 0, 1, 1, 2, 3, 2, 2, 2, 2, 3, 4, 3, 3, 2, 3, 2, 3, 3, 1, 2, 2, 3, 3, 1, 3, 2, 3, 4, 3, 4, 2, 1, 3, 3, 3, 0, 1, 4, 1, 3, 3, 3, 2, 3, 2, 3, 2, 3, 1, 4, 4, 3, 2, 3, 3, 3, 1, 0, 2, 2, 1, 1, 1, 3, 2, 4, 1, 3, 2, 4, 3, 2, 2, 1, 2, 3, 3, 2, 1, 4, 2, 2, 3, 4, 2, 3, 2, 3, 1, 2, 3, 1, 3, 4, 1, 2, 3, 3, 2, 0, 3, 3, 3, 1, 2, 2, 2, 3, 2, 1, 2, 3, 4, 2, 2, 1, 2, 1, 0, 4, 3, 2, 3, 1, 2, 1, 4, 2, 2, 3, 3, 3, 3, 3, 2, 3, 2, 1, 1, 3, 2, 3, 2, 4, 1, 3, 4, 1, 4, 3, 2, 1, 1, 3, 2, 4, 4, 2, 2, 1, 2, 2, 2, 3, 3, 3, 1, 3, 3, 2, 2, 4, 2, 4, 2, 1, 1, 1, 2, 2, 3, 2, 2, 4, 3, 2, 4, 2, 2, 1, 4, 4, 3, 2, 0, 2, 3, 1, 3, 1, 2, 3, 4, 4, 4, 3, 2, 3, 2, 3, 2, 2, 3, 2, 3, 4, 2, 3, 2, 3, 1, 4, 3, 3, 3, 3, 4, 4, 3, 2, 1, 1, 1, 4, 3, 2, 4, 1, 3, 2, 1, 2, 2, 1, 2, 3, 4, 1, 3, 3, 2, 3, 2, 2, 4, 3, 3, 3, 3, 1, 2, 2, 2, 2, 1, 4, 3, 2, 3, 3, 3, 2, 3, 4, 2, 2, 3, 2, 2, 0, 1, 4, 1, 2, 3, 1, 3, 4, 0, 3, 3, 1, 4, 2, 2, 2, 2, 3, 2, 2, 2, 2, 2, 2, 2, 1, 1, 1, 3, 1, 1, 3, 2, 3, 2, 1, 3, 3, 2, 3, 2, 2, 1, 4, 4, 2, 2, 2, 3, 1, 4, 4, 3, 2, 2, 4, 1, 3, 1, 2, 3, 1, 3, 4, 2, 4, 2, 3, 2, 3, 1, 1, 3, 2, 2, 4, 2, 2, 4, 3, 2, 2, 2, 1, 3, 1, 2, 2, 3, 2, 2, 1, 4, 3, 3, 0, 2, 2, 1, 3, 3, 2, 1, 1, 3, 3, 1, 2, 4, 3, 3, 3, 3, 3, 2, 1, 0, 2, 2, 3, 2, 3, 3, 1, 3, 3, 1, 3, 3, 4, 2, 2, 3, 2, 1, 3, 1, 3, 3, 1, 3, 1, 3, 1, 2, 2, 2, 1, 3, 3, 1, 1, 3, 0, 1, 4, 4, 1, 0, 3, 2, 3, 3, 4, 2, 2, 1, 3, 0, 3, 2, 3, 4, 3, 3, 2, 3, 3, 2, 3, 2, 3, 2, 1, 2, 3, 0, 1, 1, 3, 2, 3, 2, 3, 3, 2, 2, 4, 1, 4, 1, 2, 3, 2, 1, 3, 2, 3, 2, 1, 4, 3, 3, 4, 2, 3, 2, 2, 1, 3, 1, 1, 1, 3, 2, 2, 3, 1, 2, 2, 3, 3, 2, 2, 3, 3, 3, 2, 3, 1, 3, 3, 1, 3, 1, 3, 3, 2, 2, 2, 3, 2, 2, 1, 4, 2, 4, 4, 3, 2, 3, 3, 2, 0, 3, 2, 3, 3, 2, 1, 3, 3, 3, 3, 4, 3, 3, 2, 2, 3, 2, 1, 4, 3, 2, 1, 2, 4, 3, 1, 0, 4, 1, 2, 3, 3, 2, 2, 1, 3, 0, 3, 2, 1, 2, 2, 3, 4, 2, 3, 3, 3, 4, 2, 3, 2, 3, 2, 1, 0, 2, 1, 3, 3, 3, 2, 2, 2, 3, 2, 4, 2, 4, 2, 3, 2, 4, 1, 2, 3, 2, 2, 2, 3, 2, 2, 1, 0, 3, 2, 3, 1, 3, 4, 2, 2, 1, 2, 3, 3, 1, 3, 2, 1, 3, 3, 1, 1, 3, 2, 2, 4, 1, 4, 3, 3, 3, 3, 1, 2, 2, 3, 3, 2, 2, 4, 2, 3, 2, 2, 3, 4, 3, 3, 2, 2, 1, 2, 3, 2, 3, 2, 4, 2, 2, 4, 4, 3, 3, 2, 3, 3, 2, 3, 2, 2, 3, 3, 0, 1, 4, 4, 3, 2, 0, 1, 2, 3, 1, 3, 2, 2, 3, 2, 2, 2, 2, 2, 3, 2, 1, 3, 3, 2, 2, 1, 2, 2, 2, 3, 2, 2, 2, 1, 3, 2, 3, 3, 1, 3, 3, 3, 3, 2, 3, 0, 3, 3, 4, 3, 3, 3, 3, 3, 3, 2, 1, 1, 2, 3, 3, 1, 2, 3, 1, 3, 2, 3, 3, 1, 4, 2, 4, 2, 0, 2, 3, 3, 4, 1, 3, 1, 2, 2, 0, 3, 1, 2, 3, 3, 1, 2, 3, 1, 2, 2, 3, 2, 1, 2, 2, 1, 3, 2, 4, 1, 0, 3, 3, 3, 1, 4, 2, 4, 2, 3, 3, 1, 3, 2, 2, 1, 2, 1, 3, 3, 2, 0, 3, 2, 4, 2, 3, 3, 2, 3, 0, 0, 1, 2, 0, 3, 3, 3, 2, 2, 2, 2, 3, 3, 2, 3, 3, 4, 4, 3, 3, 3, 3, 2, 3, 3, 2, 2, 2, 2, 3, 3, 3, 3, 2, 4, 4, 3, 2, 4, 4, 0, 2, 2, 1, 3, 4, 2, 2, 2, 1, 4, 2, 2, 3, 2, 1, 3, 1, 3, 2, 2, 2, 3, 2, 1, 2]\n",
      "[ 67 353 707 660 213]\n",
      "X = 0: 67\n",
      "X = 1: 353\n",
      "X = 2: 707\n",
      "X = 3: 660\n",
      "X = 4: 213\n"
     ]
    },
    {
     "data": {
      "image/png": "[encoded data removed]",
      "text/plain": [
       "<Figure size 640x480 with 1 Axes>"
      ]
     },
     "metadata": {},
     "output_type": "display_data"
    },
    {
     "name": "stdout",
     "output_type": "stream",
     "text": [
      "Wahrscheinlichkeit fur P(X = 0) = 0.0335\n",
      "Theoretische Werte fur P(X = 0) = 0.033735943356934604\n",
      "Gesamte anzahl von Permutationen: 24\n"
     ]
    }
   ],
   "source": [
    "import numpy as np\n",
    "import matplotlib.pyplot as plt\n",
    "from itertools import permutations\n",
    "\n",
    "# a)\n",
    "outcomes = [2, 3, 4, 5, 6, 7, 8]\n",
    "\n",
    "#Anzahl von Simulationen\n",
    "N = 2000\n",
    "\n",
    "# Liste fur X werten\n",
    "X_values = []\n",
    "\n",
    "# Simulationen\n",
    "for _ in range(N):\n",
    "    #4 zahlen mit zurucklegen\n",
    "    draws = np.random.choice(outcomes, size=4, replace=True)\n",
    "    #Anzahl von gerade zahlen\n",
    "    X = sum(draw % 2 == 0 for draw in draws)\n",
    "    X_values.append(X)\n",
    "print(X_values)\n",
    "\n",
    "#Zahlen die absolute Haufigkeit fur die Werte X\n",
    "X_values_count = np.bincount(X_values)\n",
    "\n",
    "print(X_values_count)\n",
    "\n",
    "#Benutzen Print um die werte und die entsprechende Haufigkeiten zu zeichnen\n",
    "for X, count in enumerate(X_values_count):\n",
    "    print(f\"X = {X}: {count}\")\n",
    "\n",
    "# b)\n",
    "#Histogram der absoluten haufigkeiten fur die simulierten daten\n",
    "plt.hist(X_values, bins=np.arange(6)-0.5, edgecolor='black', color='turquoise')\n",
    "plt.xlabel('X')\n",
    "plt.ylabel('Absolute Haufigkeit')\n",
    "plt.xticks(range(5))\n",
    "plt.show()\n",
    "\n",
    "# c)\n",
    "#Wahrscheinlichkeit fur P(X=0)\n",
    "P_X_0 = X_values_count[0] / N\n",
    "print(f\"Wahrscheinlichkeit fur P(X = 0) = {P_X_0}\")\n",
    "\n",
    "# Die Theoretische Werte fur P(X = 0) is (3/7)^4\n",
    "P_X_0_theoretical = (3/7)**4\n",
    "print(f\"Theoretische Werte fur P(X = 0) = {P_X_0_theoretical}\")\n",
    "\n",
    "# d)\n",
    "# Alle permutationen der Zahlen 2, 3, 4, 5\n",
    "permutationen = list(permutations([2, 3, 4, 5]))\n",
    "\n",
    "# Gesamte Anzahl der Permutationen mit print\n",
    "print(f\"Gesamte anzahl von Permutationen: {len(permutationen)}\")"
   ]
  },
  {
   "cell_type": "code",
   "execution_count": null,
   "metadata": {},
   "outputs": [],
   "source": []
  }
 ],
 "metadata": {
  "kernelspec": {
   "display_name": "tensyflow",
   "language": "python",
   "name": "python3"
  },
  "language_info": {
   "codemirror_mode": {
    "name": "ipython",
    "version": 3
   },
   "file_extension": ".py",
   "mimetype": "text/x-python",
   "name": "python",
   "nbconvert_exporter": "python",
   "pygments_lexer": "ipython3",
   "version": "3.10.13"
  }
 },
 "nbformat": 4,
 "nbformat_minor": 2
}
