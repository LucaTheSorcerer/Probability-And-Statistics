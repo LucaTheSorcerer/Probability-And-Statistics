{
 "cells": [
  {
   "cell_type": "markdown",
   "metadata": {},
   "source": [
    "# Cheet Sheet "
   ]
  },
  {
   "cell_type": "markdown",
   "metadata": {},
   "source": [
    "## Permutations\n",
    "\n",
    "\n",
    "- toate permutarile posibile: list(itertool.permutations(\"abc\"))\n",
    "\n",
    "- numarul posibil de permutari a unei secvente: math.perm(len(\"abc\"), len(\"abc\")\n",
    "\n",
    "- permutare random dintr o secventa cu o anumite lungime: random.sample(\"abc\", len(\"abc\"))\n",
    "\n",
    "- o variate random dintr-o secventa: random.sample(\"abc\", 3)\n",
    "\n",
    "- toate combinatiile posibile: list(combinations(\"abc\", 3))\n",
    "\n",
    "- numarul total de combinatii posibile: math.comb(len(\"abc\"), 3)\n"
   ]
  },
  {
   "cell_type": "markdown",
   "metadata": {},
   "source": []
  }
 ],
 "metadata": {
  "language_info": {
   "name": "python"
  }
 },
 "nbformat": 4,
 "nbformat_minor": 2
}
