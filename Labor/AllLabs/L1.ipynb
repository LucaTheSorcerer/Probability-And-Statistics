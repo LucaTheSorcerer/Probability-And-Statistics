{
 "cells": [
  {
   "cell_type": "code",
   "execution_count": 32,
   "id": "13ca838b-69d1-4218-9b54-1f386855944c",
   "metadata": {},
   "outputs": [],
   "source": [
    "import random\n",
    "from random import sample\n",
    "import math\n",
    "from math import factorial, perm, comb\n",
    "import itertools\n",
    "from itertools import permutations, combinations"
   ]
  },
  {
   "cell_type": "code",
   "execution_count": 33,
   "id": "250ebb73-2d72-49e2-9f5d-2d66f2ead321",
   "metadata": {},
   "outputs": [],
   "source": [
    "#a\n",
    "s=\"ABC\"\n",
    "m=list(permutations(s))"
   ]
  },
  {
   "cell_type": "code",
   "execution_count": 34,
   "id": "de43ad8f-d333-4735-9739-7cf466967736",
   "metadata": {},
   "outputs": [
    {
     "name": "stdout",
     "output_type": "stream",
     "text": [
      "[('A', 'B', 'C'), ('A', 'C', 'B'), ('B', 'A', 'C'), ('B', 'C', 'A'), ('C', 'A', 'B'), ('C', 'B', 'A')]\n"
     ]
    }
   ],
   "source": [
    "print(m)"
   ]
  },
  {
   "cell_type": "code",
   "execution_count": 35,
   "id": "c83cc7d0-383e-487d-971b-fd73d21dde8a",
   "metadata": {},
   "outputs": [
    {
     "name": "stdout",
     "output_type": "stream",
     "text": [
      "6\n"
     ]
    }
   ],
   "source": [
    "#b\n",
    "total_permutations = math.perm(3,3)\n",
    "print(total_permutations)"
   ]
  },
  {
   "cell_type": "code",
   "execution_count": 36,
   "id": "a8a9a757-c398-4a76-b0bd-7cf7b76ff382",
   "metadata": {},
   "outputs": [
    {
     "name": "stdout",
     "output_type": "stream",
     "text": [
      "THAME\n"
     ]
    }
   ],
   "source": [
    "#c\n",
    "random_permutations = ''.join(random.sample(\"MATHE\", len(\"MATHE\")))\n",
    "print(random_permutations)"
   ]
  },
  {
   "cell_type": "code",
   "execution_count": 37,
   "id": "f358777c-b1ca-4ff9-b843-4fb1157d89f6",
   "metadata": {},
   "outputs": [
    {
     "name": "stdout",
     "output_type": "stream",
     "text": [
      "HMT\n"
     ]
    }
   ],
   "source": [
    "#d\n",
    "random_three_letters_perm = ''.join(random.sample(\"MATHE\", 3))\n",
    "print(random_three_letters_perm)"
   ]
  },
  {
   "cell_type": "code",
   "execution_count": 38,
   "id": "b5150675-0c78-4024-8c3c-b79712817e91",
   "metadata": {},
   "outputs": [
    {
     "name": "stdout",
     "output_type": "stream",
     "text": [
      "[('M', 'A', 'T'), ('M', 'A', 'H'), ('M', 'A', 'E'), ('M', 'T', 'A'), ('M', 'T', 'H'), ('M', 'T', 'E'), ('M', 'H', 'A'), ('M', 'H', 'T'), ('M', 'H', 'E'), ('M', 'E', 'A'), ('M', 'E', 'T'), ('M', 'E', 'H'), ('A', 'M', 'T'), ('A', 'M', 'H'), ('A', 'M', 'E'), ('A', 'T', 'M'), ('A', 'T', 'H'), ('A', 'T', 'E'), ('A', 'H', 'M'), ('A', 'H', 'T'), ('A', 'H', 'E'), ('A', 'E', 'M'), ('A', 'E', 'T'), ('A', 'E', 'H'), ('T', 'M', 'A'), ('T', 'M', 'H'), ('T', 'M', 'E'), ('T', 'A', 'M'), ('T', 'A', 'H'), ('T', 'A', 'E'), ('T', 'H', 'M'), ('T', 'H', 'A'), ('T', 'H', 'E'), ('T', 'E', 'M'), ('T', 'E', 'A'), ('T', 'E', 'H'), ('H', 'M', 'A'), ('H', 'M', 'T'), ('H', 'M', 'E'), ('H', 'A', 'M'), ('H', 'A', 'T'), ('H', 'A', 'E'), ('H', 'T', 'M'), ('H', 'T', 'A'), ('H', 'T', 'E'), ('H', 'E', 'M'), ('H', 'E', 'A'), ('H', 'E', 'T'), ('E', 'M', 'A'), ('E', 'M', 'T'), ('E', 'M', 'H'), ('E', 'A', 'M'), ('E', 'A', 'T'), ('E', 'A', 'H'), ('E', 'T', 'M'), ('E', 'T', 'A'), ('E', 'T', 'H'), ('E', 'H', 'M'), ('E', 'H', 'A'), ('E', 'H', 'T')]\n"
     ]
    }
   ],
   "source": [
    "#e\n",
    "variations = list((permutations(\"MATHE\", 3)))\n",
    "print(variations)"
   ]
  },
  {
   "cell_type": "code",
   "execution_count": 39,
   "id": "b8b1637d-1e86-46f1-8b7d-052b47c042bf",
   "metadata": {},
   "outputs": [
    {
     "name": "stdout",
     "output_type": "stream",
     "text": [
      "6\n"
     ]
    }
   ],
   "source": [
    "#f)\n",
    "total_variations_abc = math.perm(3, 3)\n",
    "print(total_permutations)"
   ]
  },
  {
   "cell_type": "code",
   "execution_count": 40,
   "id": "59323125-826b-4958-ac1f-aa7881eaf61d",
   "metadata": {},
   "outputs": [
    {
     "name": "stdout",
     "output_type": "stream",
     "text": [
      "[('M', 'A', 'T'), ('M', 'A', 'H'), ('M', 'A', 'E'), ('M', 'T', 'H'), ('M', 'T', 'E'), ('M', 'H', 'E'), ('A', 'T', 'H'), ('A', 'T', 'E'), ('A', 'H', 'E'), ('T', 'H', 'E')]\n"
     ]
    }
   ],
   "source": [
    "#g\n",
    "combinations_mathe = list(itertools.combinations(\"MATHE\", 3))\n",
    "print(combinations_mathe)"
   ]
  },
  {
   "cell_type": "code",
   "execution_count": 41,
   "id": "94d60d08-ec8a-40f3-8b7d-1f68f6c99655",
   "metadata": {},
   "outputs": [
    {
     "name": "stdout",
     "output_type": "stream",
     "text": [
      "1\n"
     ]
    }
   ],
   "source": [
    "#h\n",
    "total_comb_abc = math.comb(3,3)\n",
    "print(total_comb_abc)"
   ]
  },
  {
   "cell_type": "code",
   "execution_count": 43,
   "id": "af253cbe-2eee-4aa4-9b2b-37f43bb41ccc",
   "metadata": {},
   "outputs": [
    {
     "name": "stdout",
     "output_type": "stream",
     "text": [
      "Distinct permutations of 'AABB': [('A', 'A', 'B', 'B'), ('A', 'B', 'A', 'B'), ('A', 'B', 'B', 'A'), ('B', 'A', 'A', 'B'), ('B', 'A', 'B', 'A'), ('B', 'B', 'A', 'A')]\n",
      "Anzahl Permutationen von AABB mit Wiederholung: 6\n",
      "Distinct permutations of '1112': [('1', '1', '1', '2'), ('1', '1', '2', '1'), ('1', '2', '1', '1'), ('2', '1', '1', '1')]\n",
      "Anzahl Permutationen von 1112 mit Wiederholung: 4\n"
     ]
    }
   ],
   "source": [
    "import more_itertools\n",
    "from more_itertools import distinct_permutations\n",
    "\n",
    "M = list(distinct_permutations(\"AABB\"))\n",
    "print(\"Distinct permutations of 'AABB':\", M)\n",
    "m = len(M)\n",
    "print(\"Anzahl Permutationen von AABB mit Wiederholung:\", m)\n",
    "\n",
    "N = list(distinct_permutations(\"1112\"))\n",
    "print(\"Distinct permutations of '1112':\", N)\n",
    "n = len(N)\n",
    "print(\"Anzahl Permutationen von 1112 mit Wiederholung:\", n)\n"
   ]
  },
  {
   "cell_type": "code",
   "execution_count": 56,
   "id": "bad4f046-4566-44d8-8034-2efc21baac1d",
   "metadata": {},
   "outputs": [
    {
     "name": "stdout",
     "output_type": "stream",
     "text": [
      "Alle Kombinationen von ABC je 2, mit Wiederholung: [('1', '1', '1', '1', '1', '1'), ('1', '1', '1', '1', '1', '2'), ('1', '1', '1', '1', '1', '3'), ('1', '1', '1', '1', '1', '4'), ('1', '1', '1', '1', '2', '2'), ('1', '1', '1', '1', '2', '3'), ('1', '1', '1', '1', '2', '4'), ('1', '1', '1', '1', '3', '3'), ('1', '1', '1', '1', '3', '4'), ('1', '1', '1', '1', '4', '4'), ('1', '1', '1', '2', '2', '2'), ('1', '1', '1', '2', '2', '3'), ('1', '1', '1', '2', '2', '4'), ('1', '1', '1', '2', '3', '3'), ('1', '1', '1', '2', '3', '4'), ('1', '1', '1', '2', '4', '4'), ('1', '1', '1', '3', '3', '3'), ('1', '1', '1', '3', '3', '4'), ('1', '1', '1', '3', '4', '4'), ('1', '1', '1', '4', '4', '4'), ('1', '1', '2', '2', '2', '2'), ('1', '1', '2', '2', '2', '3'), ('1', '1', '2', '2', '2', '4'), ('1', '1', '2', '2', '3', '3'), ('1', '1', '2', '2', '3', '4'), ('1', '1', '2', '2', '4', '4'), ('1', '1', '2', '3', '3', '3'), ('1', '1', '2', '3', '3', '4'), ('1', '1', '2', '3', '4', '4'), ('1', '1', '2', '4', '4', '4'), ('1', '1', '3', '3', '3', '3'), ('1', '1', '3', '3', '3', '4'), ('1', '1', '3', '3', '4', '4'), ('1', '1', '3', '4', '4', '4'), ('1', '1', '4', '4', '4', '4'), ('1', '2', '2', '2', '2', '2'), ('1', '2', '2', '2', '2', '3'), ('1', '2', '2', '2', '2', '4'), ('1', '2', '2', '2', '3', '3'), ('1', '2', '2', '2', '3', '4'), ('1', '2', '2', '2', '4', '4'), ('1', '2', '2', '3', '3', '3'), ('1', '2', '2', '3', '3', '4'), ('1', '2', '2', '3', '4', '4'), ('1', '2', '2', '4', '4', '4'), ('1', '2', '3', '3', '3', '3'), ('1', '2', '3', '3', '3', '4'), ('1', '2', '3', '3', '4', '4'), ('1', '2', '3', '4', '4', '4'), ('1', '2', '4', '4', '4', '4'), ('1', '3', '3', '3', '3', '3'), ('1', '3', '3', '3', '3', '4'), ('1', '3', '3', '3', '4', '4'), ('1', '3', '3', '4', '4', '4'), ('1', '3', '4', '4', '4', '4'), ('1', '4', '4', '4', '4', '4'), ('2', '2', '2', '2', '2', '2'), ('2', '2', '2', '2', '2', '3'), ('2', '2', '2', '2', '2', '4'), ('2', '2', '2', '2', '3', '3'), ('2', '2', '2', '2', '3', '4'), ('2', '2', '2', '2', '4', '4'), ('2', '2', '2', '3', '3', '3'), ('2', '2', '2', '3', '3', '4'), ('2', '2', '2', '3', '4', '4'), ('2', '2', '2', '4', '4', '4'), ('2', '2', '3', '3', '3', '3'), ('2', '2', '3', '3', '3', '4'), ('2', '2', '3', '3', '4', '4'), ('2', '2', '3', '4', '4', '4'), ('2', '2', '4', '4', '4', '4'), ('2', '3', '3', '3', '3', '3'), ('2', '3', '3', '3', '3', '4'), ('2', '3', '3', '3', '4', '4'), ('2', '3', '3', '4', '4', '4'), ('2', '3', '4', '4', '4', '4'), ('2', '4', '4', '4', '4', '4'), ('3', '3', '3', '3', '3', '3'), ('3', '3', '3', '3', '3', '4'), ('3', '3', '3', '3', '4', '4'), ('3', '3', '3', '4', '4', '4'), ('3', '3', '4', '4', '4', '4'), ('3', '4', '4', '4', '4', '4'), ('4', '4', '4', '4', '4', '4')]\n",
      "Anzahl Kombinationen von ABC je 2 mit Wiederholung: 84\n"
     ]
    }
   ],
   "source": [
    "import itertools\n",
    "from itertools import combinations_with_replacement\n",
    "\n",
    "combinations = list(combinations_with_replacement(\"1234\", 6))\n",
    "print(\"Alle Kombinationen von ABC je 2, mit Wiederholung:\", combinations)\n",
    "\n",
    "k = len(combinations)\n",
    "print(\"Anzahl Kombinationen von ABC je 2 mit Wiederholung:\", k)\n"
   ]
  },
  {
   "cell_type": "code",
   "execution_count": 55,
   "id": "9251a3b7-ea1b-4c2b-8f61-dd22d8b33a0a",
   "metadata": {},
   "outputs": [
    {
     "name": "stdout",
     "output_type": "stream",
     "text": [
      "[1, 1, 1, 1, 2]\n",
      "[1, 1, 1, 2, 1]\n",
      "[1, 1, 2, 1, 1]\n",
      "[1, 2, 1, 1, 1]\n",
      "[2, 1, 1, 1, 1]\n"
     ]
    }
   ],
   "source": [
    "def divide_balls(n, k):\n",
    "    if n == 0 and k == 0:\n",
    "        return [[]]\n",
    "    if n < 0 or k <= 0:\n",
    "        return []\n",
    "    arrangements = []\n",
    "    for i in range(1, 6):\n",
    "        sub_arrangements = divide_balls(n - i, k - 1)\n",
    "        for arr in sub_arrangements:\n",
    "            arrangements.append([i] + arr)\n",
    "    return arrangements\n",
    "\n",
    "total_balls = 6\n",
    "total_boxes = 5\n",
    "arrangements = divide_balls(total_balls, total_boxes)\n",
    "\n",
    "for arrangement in arrangements:\n",
    "    if len(arrangement) == total_boxes:\n",
    "        print(arrangement)\n",
    "\n"
   ]
  },
  {
   "cell_type": "code",
   "execution_count": null,
   "id": "5bac4cf5-67cb-403b-b0e2-73360d783563",
   "metadata": {},
   "outputs": [],
   "source": []
  }
 ],
 "metadata": {
  "kernelspec": {
   "display_name": "tensyflow",
   "language": "python",
   "name": "tensyflow"
  },
  "language_info": {
   "codemirror_mode": {
    "name": "ipython",
    "version": 3
   },
   "file_extension": ".py",
   "mimetype": "text/x-python",
   "name": "python",
   "nbconvert_exporter": "python",
   "pygments_lexer": "ipython3",
   "version": "3.10.12"
  }
 },
 "nbformat": 4,
 "nbformat_minor": 5
}
