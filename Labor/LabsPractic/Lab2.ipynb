{
 "cells": [
  {
   "cell_type": "markdown",
   "metadata": {},
   "source": [
    "1) a) Man schatze durch wiederholte Simulationen die Wahrscheinlichkeit von dem Ereignis\n",
    "A: in einer Gruppe von k = 23 Personen mindestens zwei Personen haben den gleichen Geburtstag. Annahme: Das Jahr hat n = 365 Tage.\n",
    "b) Man berechne (in Python) die theoretische Wahrscheinlichkeit P (A) ?\n",
    "Hinweis: numpy.random.randint(low=..., high=..., size=...)"
   ]
  },
  {
   "cell_type": "code",
   "execution_count": 1,
   "metadata": {},
   "outputs": [
    {
     "name": "stdout",
     "output_type": "stream",
     "text": [
      "Estimated probability: 0.50985\n",
      "Theoretical probability: 0.5072972343239857\n"
     ]
    }
   ],
   "source": [
    "import numpy as np\n",
    "\n",
    "'''\n",
    "check the probability of at least two people having the same birthday\n",
    "'''\n",
    "\n",
    "num_simulations = 100000\n",
    "num_people = 23\n",
    "num_days = 365\n",
    "count = 0\n",
    "\n",
    "for i in range(num_simulations):\n",
    "    birthdays = np.random.randint(0, num_days, num_people)\n",
    "\n",
    "    if len(birthdays) != len(set(birthdays)):\n",
    "        count += 1\n",
    "\n",
    "estimated_probability = count / num_simulations\n",
    "print(f'Estimated probability: {estimated_probability}')\n",
    "\n",
    "\n",
    "'''\n",
    "now check the theoretical probability for all least two people having the same birthday\n",
    "'''\n",
    "\n",
    "def theoretical_probability(num_people, num_days):\n",
    "    prob_no_shared_birthday = 1.0\n",
    "    for i in range(num_people):\n",
    "        prob_no_shared_birthday *= (num_days - i) / num_days\n",
    "\n",
    "    probability = 1 - prob_no_shared_birthday\n",
    "\n",
    "    return probability\n",
    "\n",
    "print(f'Theoretical probability: {theoretical_probability(num_people, num_days)}')\n",
    "\n",
    "    "
   ]
  },
  {
   "cell_type": "code",
   "execution_count": 2,
   "metadata": {},
   "outputs": [
    {
     "name": "stdout",
     "output_type": "stream",
     "text": [
      "Estiamted probability: 0.78286\n"
     ]
    }
   ],
   "source": [
    "import random\n",
    "\n",
    "num_points = 100000\n",
    "\n",
    "points_inside_circle = 0\n",
    "\n",
    "for i in range(num_points):\n",
    "    x = random.uniform(0, 1)\n",
    "    y = random.uniform(0, 1)\n",
    "\n",
    "    if x**2 + y**2 <= 1:\n",
    "        points_inside_circle += 1\n",
    "\n",
    "estimated_probability = points_inside_circle / num_points\n",
    "print(f\"Estiamted probability: {estimated_probability}\")"
   ]
  },
  {
   "cell_type": "code",
   "execution_count": null,
   "metadata": {},
   "outputs": [],
   "source": [
    "'''Im Inneren eines Quadrates mit Seitenlange 1 wahlt man zufa ̈llig einen Punkt A. \n",
    "Man verbindet A mit den Spitzen des Quadrates und man erhalt vier Dreiecke mit gemeinsamer Spitze in A. \n",
    "Anhand von Simulationen beantworte man folgende Fragen:\n",
    "(1) Welches ist die Wahrscheinlichkeit, dass genau ein Winkel in A stumpf ist?\n",
    "(2) Welches ist die Wahrscheinlichkeit, dass genau zwei Winkel in A stumpf sind?\n",
    "Man zeichne auf demselben Bild die zufa ̈lligen Punkte (entsprechend den Fa ̈llen (1), (2)) mit verschiedenen Farben.\n",
    "'''\n",
    "\n",
    "import matplotlib.pyplot as plt\n",
    "\n",
    "num_points = 10000\n",
    "\n",
    "points_inside_circle = 0\n",
    "\n",
    "for i in range(num_points):\n",
    "\n",
    "    "
   ]
  }
 ],
 "metadata": {
  "kernelspec": {
   "display_name": "tensyflow",
   "language": "python",
   "name": "python3"
  },
  "language_info": {
   "codemirror_mode": {
    "name": "ipython",
    "version": 3
   },
   "file_extension": ".py",
   "mimetype": "text/x-python",
   "name": "python",
   "nbconvert_exporter": "python",
   "pygments_lexer": "ipython3",
   "version": "3.10.13"
  }
 },
 "nbformat": 4,
 "nbformat_minor": 2
}
