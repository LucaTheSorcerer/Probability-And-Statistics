{
 "cells": [
  {
   "cell_type": "code",
   "execution_count": 13,
   "id": "initial_id",
   "metadata": {
    "collapsed": true
   },
   "outputs": [],
   "source": [
    "import itertools\n",
    "import math\n",
    "import random\n",
    "from itertools import combinations"
   ]
  },
  {
   "cell_type": "code",
   "execution_count": 2,
   "id": "c2041a68",
   "metadata": {},
   "outputs": [
    {
     "name": "stdout",
     "output_type": "stream",
     "text": [
      "[('A', 'B', 'C'), ('A', 'C', 'B'), ('B', 'A', 'C'), ('B', 'C', 'A'), ('C', 'A', 'B'), ('C', 'B', 'A')]\n"
     ]
    }
   ],
   "source": [
    "permutations_ABC = list(itertools.permutations(\"ABC\"))\n",
    "print(permutations_ABC)"
   ]
  },
  {
   "cell_type": "code",
   "execution_count": 4,
   "id": "6f16db6b",
   "metadata": {},
   "outputs": [
    {
     "name": "stdout",
     "output_type": "stream",
     "text": [
      "6\n"
     ]
    }
   ],
   "source": [
    "total_permutations_ABC = math.perm(len(\"ABC\"), len(\"ABC\"))\n",
    "print(total_permutations_ABC)"
   ]
  },
  {
   "cell_type": "code",
   "execution_count": 6,
   "id": "664349e1",
   "metadata": {},
   "outputs": [
    {
     "name": "stdout",
     "output_type": "stream",
     "text": [
      "['E', 'M', 'T', 'H', 'A']\n"
     ]
    }
   ],
   "source": [
    "random_permutation_MATHE = random.sample(\"MATHE\", len(\"MATHE\"))\n",
    "print(random_permutation_MATHE)"
   ]
  },
  {
   "cell_type": "code",
   "execution_count": 8,
   "id": "9acfa6cd",
   "metadata": {},
   "outputs": [
    {
     "name": "stdout",
     "output_type": "stream",
     "text": [
      "['M', 'T', 'E']\n"
     ]
    }
   ],
   "source": [
    "random_variation_MATHE = random.sample(\"MATHE\", 3)\n",
    "print(random_variation_MATHE)"
   ]
  },
  {
   "cell_type": "code",
   "execution_count": 9,
   "id": "6582ef9e",
   "metadata": {},
   "outputs": [
    {
     "name": "stdout",
     "output_type": "stream",
     "text": [
      "[('M', 'A', 'T'), ('M', 'A', 'H'), ('M', 'A', 'E'), ('M', 'T', 'A'), ('M', 'T', 'H'), ('M', 'T', 'E'), ('M', 'H', 'A'), ('M', 'H', 'T'), ('M', 'H', 'E'), ('M', 'E', 'A'), ('M', 'E', 'T'), ('M', 'E', 'H'), ('A', 'M', 'T'), ('A', 'M', 'H'), ('A', 'M', 'E'), ('A', 'T', 'M'), ('A', 'T', 'H'), ('A', 'T', 'E'), ('A', 'H', 'M'), ('A', 'H', 'T'), ('A', 'H', 'E'), ('A', 'E', 'M'), ('A', 'E', 'T'), ('A', 'E', 'H'), ('T', 'M', 'A'), ('T', 'M', 'H'), ('T', 'M', 'E'), ('T', 'A', 'M'), ('T', 'A', 'H'), ('T', 'A', 'E'), ('T', 'H', 'M'), ('T', 'H', 'A'), ('T', 'H', 'E'), ('T', 'E', 'M'), ('T', 'E', 'A'), ('T', 'E', 'H'), ('H', 'M', 'A'), ('H', 'M', 'T'), ('H', 'M', 'E'), ('H', 'A', 'M'), ('H', 'A', 'T'), ('H', 'A', 'E'), ('H', 'T', 'M'), ('H', 'T', 'A'), ('H', 'T', 'E'), ('H', 'E', 'M'), ('H', 'E', 'A'), ('H', 'E', 'T'), ('E', 'M', 'A'), ('E', 'M', 'T'), ('E', 'M', 'H'), ('E', 'A', 'M'), ('E', 'A', 'T'), ('E', 'A', 'H'), ('E', 'T', 'M'), ('E', 'T', 'A'), ('E', 'T', 'H'), ('E', 'H', 'M'), ('E', 'H', 'A'), ('E', 'H', 'T')]\n"
     ]
    }
   ],
   "source": [
    "variations_MATHE = list(itertools.permutations(\"MATHE\", 3))\n",
    "print(variations_MATHE)"
   ]
  },
  {
   "cell_type": "code",
   "execution_count": 11,
   "id": "ce3252f9",
   "metadata": {},
   "outputs": [
    {
     "name": "stdout",
     "output_type": "stream",
     "text": [
      "60\n"
     ]
    }
   ],
   "source": [
    "total_variations_MATHE = math.perm(len(\"MATHE\"), 3)\n",
    "print(total_variations_MATHE)"
   ]
  },
  {
   "cell_type": "code",
   "execution_count": 14,
   "id": "a917ad04",
   "metadata": {},
   "outputs": [
    {
     "name": "stdout",
     "output_type": "stream",
     "text": [
      "[('M', 'A', 'T'), ('M', 'A', 'H'), ('M', 'A', 'E'), ('M', 'T', 'H'), ('M', 'T', 'E'), ('M', 'H', 'E'), ('A', 'T', 'H'), ('A', 'T', 'E'), ('A', 'H', 'E'), ('T', 'H', 'E')]\n"
     ]
    }
   ],
   "source": [
    "combinations_MATHE = list(combinations(\"MATHE\", 3))\n",
    "print(combinations_MATHE)"
   ]
  },
  {
   "cell_type": "code",
   "execution_count": 16,
   "id": "6311b407",
   "metadata": {},
   "outputs": [
    {
     "name": "stdout",
     "output_type": "stream",
     "text": [
      "10\n"
     ]
    }
   ],
   "source": [
    "total_combinations_MATHE = math.comb(len(\"MATHE\"), 3)\n",
    "print(total_combinations_MATHE)"
   ]
  },
  {
   "cell_type": "code",
   "execution_count": 18,
   "id": "fb5cc879",
   "metadata": {},
   "outputs": [
    {
     "name": "stdout",
     "output_type": "stream",
     "text": [
      "84\n"
     ]
    }
   ],
   "source": [
    "'''\n",
    "Wie viele Moglichkeiten gibt es 6 rote Kugeln in 4 Kartons aufzuteilen? Manche Kartons konnen leer bleiben. Man zahle alle moglichen Anordnungen auf. Hinweis: Wir bezeichnen die vier Kartons mit 1,2,3,4. Eine mogliche Anordnung ist: [1,1,2,3,3,3], d.h. 2 Kugeln im Karton ”1”, eine Kugel im Karton ”2”, 3 Kugeln im Karton ”3” und keine Kugel im Karton ”4”.\n",
    "'''\n",
    "\n",
    "total_ways = math.comb(6 + 4 - 1, 4 - 1)\n",
    "print(total_ways)"
   ]
  },
  {
   "cell_type": "code",
   "execution_count": null,
   "id": "8ab566cc",
   "metadata": {},
   "outputs": [],
   "source": []
  },
  {
   "cell_type": "code",
   "execution_count": null,
   "id": "a5ae87ce",
   "metadata": {},
   "outputs": [],
   "source": []
  }
 ],
 "metadata": {
  "kernelspec": {
   "display_name": "Python 3",
   "language": "python",
   "name": "python3"
  },
  "language_info": {
   "codemirror_mode": {
    "name": "ipython",
    "version": 3
   },
   "file_extension": ".py",
   "mimetype": "text/x-python",
   "name": "python",
   "nbconvert_exporter": "python",
   "pygments_lexer": "ipython3",
   "version": "3.10.13"
  }
 },
 "nbformat": 4,
 "nbformat_minor": 5
}
