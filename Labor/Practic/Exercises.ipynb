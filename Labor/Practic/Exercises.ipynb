{
 "cells": [
  {
   "cell_type": "code",
   "execution_count": 89,
   "metadata": {},
   "outputs": [],
   "source": [
    "import random\n",
    "import matplotlib.pyplot as plt\n",
    "import numpy as np\n",
    "import math\n",
    "from scipy.stats import binom, norm, hypergeom"
   ]
  },
  {
   "cell_type": "markdown",
   "metadata": {},
   "source": [
    "# Exercise 1\n",
    "\n",
    "Wir spielen Roulette mit einem Einsatz von 5 € mit der Glückszahl 15. Die Wahrscheinlichkeiten und Auszahlungen beim Roulette sind in folgender Tabelle zusammengefasst:\n",
    "Ereignis\n",
    "Gewinnen Verlieren\n",
    "Summe\n",
    "175 € -5 €\n",
    "Wahrscheinlichkeit\n",
    "1/38 37/38\n",
    "Die Tabelle zeigt, dass, wenn wir gewinnen würden, wir das 35-fache unseres Einsatzes (175 €) zurückbekämen. Die Wahrscheinlichkeit dafür ist allerdings nur 1/38. Wesentlich wahrscheinlicher ist es dagegen, dass wir verlieren, hier -5 € mit einer Wahrscheinlichkeit von 37/38.\n",
    "Man führe mehrere solche Situationenfür das Roulettespiel durch und berechne anhand von Simulationen wie viel man im Mittel (durchschnittlich) in 10 Spielen verliert/gewinnt, wenn man immer als Glückszahl die 15 einsetzt."
   ]
  },
  {
   "cell_type": "code",
   "execution_count": 12,
   "metadata": {},
   "outputs": [
    {
     "name": "stdout",
     "output_type": "stream",
     "text": [
      "Average winnings over 10000 rounds: -0.644\n"
     ]
    }
   ],
   "source": [
    "win_probability = 1/38\n",
    "lose_probability = 37/38\n",
    "win_payout = 175\n",
    "lose_payout = -5\n",
    "\n",
    "total_winnings = 0\n",
    "\n",
    "num_rounds = 10000\n",
    "\n",
    "lucky_number = 15\n",
    "\n",
    "for _ in range(num_rounds):\n",
    "    outcome = random.randint(0, 37)\n",
    "    \n",
    "    if outcome == lucky_number:\n",
    "        total_winnings += win_payout\n",
    "    else:\n",
    "        total_winnings += lose_payout\n",
    "\n",
    "average_winnings = total_winnings / num_rounds\n",
    "\n",
    "print(f\"Average winnings over {num_rounds} rounds: {average_winnings}\")\n",
    "    "
   ]
  },
  {
   "cell_type": "markdown",
   "metadata": {},
   "source": [
    "# Exercise 2\n",
    "\n",
    "Beim Herstellungsprozess einer Ware ist bekannt, dass 80% fehlerfrei, 15% mit leichten (vernachlässigbaren) Fehlern und 5% mit großen Fehlern hergestellt werden.\n",
    "Zufallsgröße X = die Anzahl der Waren mit großen Fehlern von insgesamt 100 Waren aus dem Herstellungsprozess.\n",
    "- a.  Man simuliere N=100 mögliche Werte der ZG X.\n",
    "- b.  Welches ist die mittlere Anzahl M der Waren mit großen Fehlern (anhand der simulierten Daten)?\n",
    "- c. Wie groß ist die theoretische Wahrscheinlichkeit , dass von den nächsten hergestellten 100 Exemplaren\n",
    "dieser Ware\n",
    "1) höchstens 3 \n",
    "2) genau 10 \n",
    "3) mindestens 4 große\n",
    "Fehler besitzen?"
   ]
  },
  {
   "cell_type": "code",
   "execution_count": 16,
   "metadata": {},
   "outputs": [
    {
     "name": "stdout",
     "output_type": "stream",
     "text": [
      "Mean simulated value of large errors: 25.72\n",
      "Mean simulated value1 of large errors: 25.72\n",
      "The theoretical probability of at most 3 large errors is 0.2578386591160164\n",
      "The theoretical probability of exactly 10 large errors is 0.016715884095931423\n",
      "The theoretical probability of at least 4 large errors is 0.7421613408839836\n"
     ]
    }
   ],
   "source": [
    "prob_no_error = 0.80\n",
    "prob_minor_error = 0.15\n",
    "prob_major_error = 0.05\n",
    "\n",
    "N = 100\n",
    "\n",
    "simulated_values = []\n",
    "\n",
    "for _ in range(N):\n",
    "    large_errors = sum(random.choices([0, 1, 2], [prob_no_error, prob_minor_error, prob_major_error], k=100))\n",
    "    simulated_values.append(large_errors)\n",
    "\n",
    "mean_simulated_value = np.mean(simulated_values)\n",
    "mean_simulated_value1 = sum(simulated_values) / N\n",
    "\n",
    "print(f\"Mean simulated value of large errors: {mean_simulated_value}\")\n",
    "print(f\"Mean simulated value1 of large errors: {mean_simulated_value1}\")\n",
    "\n",
    "p_at_most_3 = sum(binom.pmf(k, 100, prob_major_error) for k in range(4))\n",
    "\n",
    "p_exactly_10 = binom.pmf(10, 100, prob_major_error)\n",
    "\n",
    "p_at_least_4 = 1 - sum(binom.pmf(k, 100, prob_major_error) for k in range(4))\n",
    "\n",
    "print(f\"The theoretical probability of at most 3 large errors is {p_at_most_3}\")\n",
    "print(f\"The theoretical probability of exactly 10 large errors is {p_exactly_10}\")\n",
    "print(f\"The theoretical probability of at least 4 large errors is {p_at_least_4}\")"
   ]
  },
  {
   "cell_type": "markdown",
   "metadata": {},
   "source": [
    "# Exercise 3\n",
    "\n",
    "Die Lebensdauer eines elektronischen Gerätes werde als normalverteilt angenommen. Der Erwartungswert betrage 10000 Stunden, und die Standardabweichung 200 Stunden.\n",
    "Zufallsgröße X = die Lebensdauer des elektronischen Gerätes.\n",
    " - a) Man simuliere N=10 mögliche Werte von X.\n",
    " - b) Wie groß ist die theoretische Wahrscheinlichkeit, dass ein zufällig der Produktion entnommenes\n",
    "Fernsehgerät\n",
    "1) mehr als 1500 Stunden;\n",
    "2) höchstens 6500 Stunden;\n",
    "3) zwischen 7500 und 10500 \n",
    "Stunden läuft?"
   ]
  },
  {
   "cell_type": "code",
   "execution_count": 18,
   "metadata": {},
   "outputs": [
    {
     "name": "stdout",
     "output_type": "stream",
     "text": [
      "a. Simulated value of X: \n",
      "10274.492666747852\n",
      "9774.103292285157\n",
      "10083.621971844781\n",
      "9958.466214420803\n",
      "10143.193792468957\n",
      "10277.832275056535\n",
      "10061.559268562927\n",
      "10357.032024555183\n",
      "10070.636027672002\n",
      "9957.798141419882\n",
      "b. The probability that X is more than 1500 is 1.0\n",
      "b. The probability that X is at most 6500 is 7.163458766235034e-69\n",
      "b. The probability that X is between 7500 and 10500 is 0.9937903346742238\n"
     ]
    }
   ],
   "source": [
    "mean = 10000\n",
    "std_dev = 200\n",
    "\n",
    "N = 10\n",
    "\n",
    "simulated_value_normal = np.random.normal(mean, std_dev, N)\n",
    "\n",
    "print(\"a. Simulated value of X: \")\n",
    "for value in simulated_value_normal:\n",
    "    print(value)\n",
    "\n",
    "p_more_than_1500 = 1 - norm.cdf(1500, mean, std_dev)\n",
    "\n",
    "p_at_most_6500 = norm.cdf(6500, mean, std_dev)\n",
    "\n",
    "p_between_7500_10500 = norm.cdf(10500, mean, std_dev) - norm.cdf(7500, mean, std_dev)\n",
    "\n",
    "print(f\"b. The probability that X is more than 1500 is {p_more_than_1500}\")\n",
    "print(f\"b. The probability that X is at most 6500 is {p_at_most_6500}\")\n",
    "print(f\"b. The probability that X is between 7500 and 10500 is {p_between_7500_10500}\")"
   ]
  },
  {
   "cell_type": "markdown",
   "metadata": {},
   "source": [
    "# Exercise 4\n",
    "\n",
    "Betrachten wir die statistischen Daten aus einer Stichprobe:\n",
    "309 , 333 , 309 , 330, 325, 325 , 325 , 333 , 314 , 314, 330, 314, 314, 330\n",
    "\n",
    "vom Umfang n=14 für die Lebensdauer in Stunden einer bestimmten elektronischen Komponente. Diese Stichprobe dient zur Untersuchung des Merkmals (Zufallsgröße) X : die Lebensdauer der elektronischen Komponente.\n",
    "- a) Welches ist die durchschnittliche Lebensdauer der Glühbirnen?\n",
    "- b) Welches ist die empirische Standardabweichung?\n",
    "- c) Man schätze anhand dieser Daten P(X>310).\n"
   ]
  },
  {
   "cell_type": "code",
   "execution_count": 19,
   "metadata": {},
   "outputs": [
    {
     "name": "stdout",
     "output_type": "stream",
     "text": [
      "Mean lifetime: 321.7857142857143\n",
      "Standard deviation: 9.00579788827151\n",
      "Estimated probability that X > 310: 0.8571428571428571\n"
     ]
    }
   ],
   "source": [
    "data = [309, 333, 309, 330, 325, 325, 325, 333, 314, 314, 330, 314, 314, 330]\n",
    "\n",
    "mean_lifetime = np.mean(data)\n",
    "\n",
    "std_deviation = np.std(data, ddof=1)\n",
    "\n",
    "count_X_gt_310 = sum(1 for i in data if i > 310)\n",
    "estimate_prob_X_gt_310 = count_X_gt_310 / len(data)\n",
    "\n",
    "print(f\"Mean lifetime: {mean_lifetime}\")\n",
    "print(f\"Standard deviation: {std_deviation}\")\n",
    "print(f\"Estimated probability that X > 310: {estimate_prob_X_gt_310}\")"
   ]
  },
  {
   "cell_type": "markdown",
   "metadata": {},
   "source": [
    "# Exercies 5\n",
    "\n",
    "Stichprobenvariablen in Histogrammen dargestellt: für die im Vektor X gegebenen Daten zeichne man das Histogramm der absoluten, bzw. relativen Häufigkeiten. Man gebe an P(X<301).\n",
    "X =[299, 299 , 297, 303 , 299, 301, 300, 297, 302, 303, 300, 299, 301, 302, 301, 299, 300, 297, 300, 300, 296, 303, 295, 295, 297]"
   ]
  },
  {
   "cell_type": "code",
   "execution_count": 22,
   "metadata": {},
   "outputs": [
    {
     "data": {
      "image/png": "[encoded data removed]",
      "text/plain": [
       "<Figure size 640x480 with 1 Axes>"
      ]
     },
     "metadata": {},
     "output_type": "display_data"
    },
    {
     "data": {
      "image/png": "[encoded data removed]",
      "text/plain": [
       "<Figure size 640x480 with 1 Axes>"
      ]
     },
     "metadata": {},
     "output_type": "display_data"
    },
    {
     "name": "stdout",
     "output_type": "stream",
     "text": [
      "Probability that X < 301: 0.68\n"
     ]
    }
   ],
   "source": [
    "X = [299, 299, 297, 303, 299, 301, 300, 297, 302, 303, 300, 299, 301, 302, 301, 299, 300, 297, 300, 300, 296, 303, 295, 295, 297]\n",
    "\n",
    "#Histogram of absolute frequencies\n",
    "\n",
    "plt.hist(X, bins=10, alpha=0.5, color='b', edgecolor='black', label='Absolute Freqeuncy')\n",
    "plt.xlabel('Value')\n",
    "plt.ylabel('Frequency')\n",
    "plt.title(\"Histogram of Absolute Frequencies\")\n",
    "plt.legend()\n",
    "plt.show()\n",
    "# print(np.ones(len(X)) / len(X))\n",
    "\n",
    "#Histogram of relative frequencies\n",
    "\n",
    "plt.hist(X, bins=10, alpha=0.5, color='b', edgecolor='black', weights=np.ones(len(X)) / len(X), label='Relative Freqeuncy')\n",
    "plt.xlabel('Value')\n",
    "plt.ylabel('Frequency')\n",
    "plt.title(\"Histogram of Relative Frequencies\")\n",
    "plt.legend()\n",
    "plt.show()\n",
    "\n",
    "#Compute P(X < 301)\n",
    "\n",
    "count_x_lt_301 = sum(1 for x in X if x < 301)\n",
    "prob_x_lt_301 = count_x_lt_301 / len(X)\n",
    "\n",
    "print(f\"Probability that X < 301: {prob_x_lt_301}\")"
   ]
  },
  {
   "cell_type": "markdown",
   "metadata": {},
   "source": [
    "# Exercise 6\n",
    "\n",
    "Eine Maschine produziert im Mittel 10mm lange Schrauben mit einer Standardabweichung von 1mm. Die Länge der Schrauben kann als normalverteilt angesehen werden. Anhand von \n",
    "a. Simulationen \n",
    "b. spezifischen Anweisungen berechne man die geschätzte bzw. theoretische Wahrscheinlichkeit dafür, dass\n",
    "- eine Schraube kürzer ist als 9 mm;\n",
    "- eine Schraube höchstens 10.1 mm und mindestens 8.9 mm lang ist;"
   ]
  },
  {
   "cell_type": "code",
   "execution_count": 24,
   "metadata": {},
   "outputs": [
    {
     "name": "stdout",
     "output_type": "stream",
     "text": [
      "Probability that length is shorter than 9: 0.15694\n",
      "Probability that length is between 8.9 and 10.1: 0.40557\n",
      "Theoretical probability that length is shorter than 9: 0.15865525393145707\n",
      "Theoretical probability that length is between 8.9 and 10.1: 0.40416177633064615\n"
     ]
    }
   ],
   "source": [
    "mean_length = 10\n",
    "std_deviation = 1\n",
    "num_simulations = 100000\n",
    "\n",
    "simulated_lengths = [np.random.normal(mean_length, std_deviation) for _ in range(num_simulations)]\n",
    "\n",
    "#Compute estimated probabilities \n",
    "prob_shorter_than_9 = sum(1 for length in simulated_lengths if length < 9) / num_simulations\n",
    "prob_between_8_9_and_10_1 = sum(1 for length in simulated_lengths if 8.9 <= length <= 10.1) / num_simulations\n",
    "\n",
    "print(f\"Probability that length is shorter than 9: {prob_shorter_than_9}\")\n",
    "print(f\"Probability that length is between 8.9 and 10.1: {prob_between_8_9_and_10_1}\")\n",
    "\n",
    "#Compute theoretical probabilities\n",
    "prob_theoretical_shorter_than_9 = norm.cdf(9, loc=mean_length, scale=std_deviation)\n",
    "\n",
    "prob_theoretical_between_8_9_and_10_1 = norm.cdf(10.1, loc=mean_length, scale=std_deviation) - norm.cdf(8.9, loc=mean_length, scale=std_deviation)\n",
    "\n",
    "print(f\"Theoretical probability that length is shorter than 9: {prob_theoretical_shorter_than_9}\")\n",
    "print(f\"Theoretical probability that length is between 8.9 and 10.1: {prob_theoretical_between_8_9_and_10_1}\")"
   ]
  },
  {
   "cell_type": "markdown",
   "metadata": {},
   "source": [
    "# Exercise 7\n",
    "\n",
    "Man wählt zufällig Punkte im Inneren des Quadrats [0,2]x[0,2] (siehe das untere Bild). Man schätze durch Simulationen die Wahrscheinlichkeit, dass diese Punkte innerhalb des weißen Dreieckes sind. Man zeichne die Punkte im Inneren des weißen Dreiecks mit einer anderen Farben als die Punkte ausserhalb dieses Dreiecks. Welche ist die exakte (theoretische) Wahrscheinlichkeit? (Hinweis: man benutze die geometrische Wahrscheinlichkeit und man berechne die zugehörigen Flächeninhalte!)\n"
   ]
  },
  {
   "cell_type": "markdown",
   "metadata": {},
   "source": []
  },
  {
   "cell_type": "markdown",
   "metadata": {},
   "source": [
    "# Exercise 8\n",
    "\n",
    "Seien n=4, p=0.25, X~Bino(n,p), Y=X2 + 1. Man simuliere 1000 Werte für Y. Man erstelle das Histogramm der absoluten Häufigkeiten für Y. Man schätze P(Y>5). Man vergleiche die geschätzte Wahrscheinlichkeit mit der theoretischen Wahrscheinlichkeit."
   ]
  },
  {
   "cell_type": "code",
   "execution_count": 32,
   "metadata": {},
   "outputs": [
    {
     "data": {
      "image/png": "[encoded data removed]",
      "text/plain": [
       "<Figure size 640x480 with 1 Axes>"
      ]
     },
     "metadata": {},
     "output_type": "display_data"
    },
    {
     "name": "stdout",
     "output_type": "stream",
     "text": [
      "Estimated probability that Y > 5: 0.055\n",
      "Theoretical probability that Y > 5: 0.0\n"
     ]
    }
   ],
   "source": [
    "n = 4\n",
    "p = 0.25\n",
    "simulations = 1000\n",
    "X_values = np.random.binomial(n, p, simulations)\n",
    "Y_values = X_values**2 + 1\n",
    "\n",
    "plt.hist(Y_values, bins=max(Y_values), rwidth=0.8, color='turquoise', edgecolor='black')\n",
    "plt.xlabel('Y')\n",
    "plt.ylabel('Absolute Frequency')\n",
    "plt.title('Histogram of absolute frequencies of Y')\n",
    "plt.show()\n",
    "\n",
    "estimated_probability = np.mean(Y_values > 5)\n",
    "\n",
    "theoretical_probability = 1 - binom.cdf(5, n, p)\n",
    "\n",
    "print(f\"Estimated probability that Y > 5: {estimated_probability}\")\n",
    "print(f\"Theoretical probability that Y > 5: {theoretical_probability}\")"
   ]
  },
  {
   "cell_type": "markdown",
   "metadata": {},
   "source": [
    "# Exercise 9\n",
    "\n",
    "In einem Programm werden unabhängig voneinander 500 standardnormalverteilte Zufallsvariablen erzeugt und aufsummiert. Man schätze die Wahrscheinlichkeit dafür, dass die Summe der erzeugten Zufallsvariablen außerhalb des Intervalls [−20, 10] liegt. Man vergleiche das Ergebnis mit der theoretischen Wahrscheinlichkeit"
   ]
  },
  {
   "cell_type": "code",
   "execution_count": 42,
   "metadata": {},
   "outputs": [
    {
     "name": "stdout",
     "output_type": "stream",
     "text": [
      "Estimated probability that sum is outside [-20, 10]: 0.51137\n",
      "Theoretical probability that sum is outside [-20, 10]: 0.5129071077706373\n"
     ]
    },
    {
     "data": {
      "image/png": "[encoded data removed]",
      "text/plain": [
       "<Figure size 640x480 with 1 Axes>"
      ]
     },
     "metadata": {},
     "output_type": "display_data"
    }
   ],
   "source": [
    "n_simulations = 100000\n",
    "n_variables = 500\n",
    "\n",
    "# Simulate the sum of 500 variables for each simulation\n",
    "\n",
    "sums = np.random.normal(0, 1, (n_simulations, n_variables)).sum(axis=1)\n",
    "\n",
    "#Compute the estimated probability\n",
    "\n",
    "estimated_probability = np.mean((sums < -20) | (sums > 10))\n",
    "\n",
    "print(f\"Estimated probability that sum is outside [-20, 10]: {estimated_probability}\")\n",
    "\n",
    "#Compute the theoretical probability\n",
    "\n",
    "theoretical_probability = norm.cdf(-20, loc=0, scale=np.sqrt(n_variables)) + (1- norm.cdf(10, loc=0, scale=np.sqrt(n_variables)))\n",
    "\n",
    "print(f\"Theoretical probability that sum is outside [-20, 10]: {theoretical_probability}\")\n",
    "\n",
    "plt.hist(sums, bins=100, color=\"turquoise\", edgecolor=\"black\")\n",
    "plt.xlabel(\"Sum\")\n",
    "plt.ylabel(\"Absolute Frequency\")\n",
    "plt.title(\"Histogram of absolute frequencies of sum\")\n",
    "plt.show()\n"
   ]
  },
  {
   "cell_type": "markdown",
   "metadata": {},
   "source": [
    "# Exercise 10\n",
    "\n",
    "Die Zufallsvariable X sei normalverteilt mit Erwartungswert gleich 3 und Varianz gleich 4.\n",
    "Man schätze P(|X| > 4) anhand von (a) Simulationen;\n",
    "(b) spezifischen Anweisungen der Normalverteilung."
   ]
  },
  {
   "cell_type": "code",
   "execution_count": 43,
   "metadata": {},
   "outputs": [
    {
     "name": "stdout",
     "output_type": "stream",
     "text": [
      "Estimated probability: 0.3092\n",
      "Theoretical probability: 0.3085375387259869\n"
     ]
    }
   ],
   "source": [
    "mean = 3\n",
    "variance = 4\n",
    "simulations = 10000\n",
    "\n",
    "X_values = np.random.normal(mean, np.sqrt(variance), simulations)\n",
    "\n",
    "estimated_probability = np.mean(X_values > 4)\n",
    "\n",
    "print(f\"Estimated probability: {estimated_probability}\")\n",
    "\n",
    "theoretical_probability = 1 - norm.cdf(4, loc=mean, scale=np.sqrt(variance))\n",
    "\n",
    "print(f\"Theoretical probability: {theoretical_probability}\")"
   ]
  },
  {
   "cell_type": "markdown",
   "metadata": {},
   "source": [
    "# Exercise 11\n",
    "\n",
    "In einer Urne befinden sich 6 rote, 4 weiße und 10 blaue Kugeln. Es werden vier Kugeln gezogen. Wie groß ist die Wahrscheinlichkeit, die Kugeln in der Reihenfolge „rot, weiß, blau, blau\" zu ziehen, wenn die Kugeln nach der Ziehung\n",
    "- a) zurückgelegt\n",
    "- b) nicht zurückgelegt werden?\n",
    "Man beantworte die Fragen anhand von Simulationen; welche sind die entsprechenden theoretischen Wahrscheinlichkeiten?"
   ]
  },
  {
   "cell_type": "code",
   "execution_count": 48,
   "metadata": {},
   "outputs": [
    {
     "name": "stdout",
     "output_type": "stream",
     "text": [
      "Estimated probability of a: 0.0143\n",
      "Estimated probability of b: 0.0218\n",
      "Theoretical probability of a: 0.015\n",
      "Theoretical probability of b: 0.0\n"
     ]
    }
   ],
   "source": [
    "total_simulations = 10000\n",
    "desired_sequence = [\"rot\", \"weiss\", \"blau\", \"blau\"]\n",
    "\n",
    "urn=[\"rot\"] * 6 + [\"weiss\"] * 4 + [\"blau\"] * 10\n",
    "\n",
    "count_success_a = 0\n",
    "\n",
    "for _ in range(total_simulations):\n",
    "    drawn_balls = [random.choice(urn) for _ in range(4)]\n",
    "    if drawn_balls == desired_sequence:\n",
    "        count_success_a += 1\n",
    "\n",
    "probability_estimated_a = count_success_a / total_simulations\n",
    "\n",
    "count_success_b = 0\n",
    "\n",
    "for _ in range(total_simulations):\n",
    "    urn_copy = urn.copy()\n",
    "    drawn_balls = []\n",
    "    for _ in range(4):\n",
    "        ball = random.choice(urn_copy)\n",
    "        drawn_balls.append(ball)\n",
    "        urn_copy.remove(ball)\n",
    "    if drawn_balls == desired_sequence:\n",
    "        count_success_b += 1\n",
    "\n",
    "probability_estimated_b = count_success_b / total_simulations\n",
    "\n",
    "probability_theoretical_b = count_success_b / total_simulations\n",
    "\n",
    "probability_theoretical_a = (urn.count(\"rot\") / len(urn)) * (urn.count(\"weiss\") / len(urn)) * (urn.count(\"blau\") / len(urn)) * (urn.count(\"blau\") / len(urn))\n",
    "probability_theoretical_b = (urn.count(\"rot\") / len(urn)) * (urn.count(\"weiß\") / (len(urn) - 1)) * (urn.count(\"blau\") / (len(urn) - 2)) * (urn.count(\"blau\") / (len(urn) - 3))\n",
    "\n",
    "\n",
    "print(f\"Estimated probability of a: {probability_estimated_a}\")\n",
    "print(f\"Estimated probability of b: {probability_estimated_b}\")\n",
    "print(f\"Theoretical probability of a: {probability_theoretical_a}\")\n",
    "print(f\"Theoretical probability of b: {probability_theoretical_b}\")\n"
   ]
  },
  {
   "cell_type": "markdown",
   "metadata": {},
   "source": [
    "# Exercise 12\n",
    "\n",
    "Ein sechsseitiger Würfel wird auf vier Seiten mit einer 1 und auf zwei Seiten mit einer 2 übermalt. Er wird zweimal geworfen.\n",
    "1) Die Zufallsvariable X gibt die Summe der erhaltenen Zahlen an. Man gebe alle möglichen Werte von X an und die entsprechenden theoretischen Wahrscheinlichkeiten.\n",
    "2) Anhand von Simulationen schätze man\n",
    "- 2a) die zu erwartende Summe (d.h. E(X)) \n",
    "- 2b) die Wahrscheinlichkeit dafür, dass die Summe größer als 2 ist."
   ]
  },
  {
   "cell_type": "code",
   "execution_count": 49,
   "metadata": {},
   "outputs": [
    {
     "name": "stdout",
     "output_type": "stream",
     "text": [
      "Estimated expected value: 3.00179\n",
      "Estimated probability: 0.75183\n"
     ]
    }
   ],
   "source": [
    "simulations = 100000\n",
    "results = []\n",
    "\n",
    "for _ in range(simulations):\n",
    "    rolls = np.random.choice([1, 2], size=2, replace=True)\n",
    "    results.append(sum(rolls))\n",
    "\n",
    "expected_value = np.mean(results)\n",
    "\n",
    "probaility_estimated = np.mean(np.array(results) > 2)\n",
    "\n",
    "print(f\"Estimated expected value: {expected_value}\")\n",
    "print(f\"Estimated probability: {probaility_estimated}\")"
   ]
  },
  {
   "cell_type": "markdown",
   "metadata": {},
   "source": [
    "# Exercise 14 ~ NU MERGE BINE \n",
    "\n",
    "Man schätze anhand von Simulationen die Wahrscheinlichkeit, dass man in einem Lottospiel (mit Zahlen von 1 bis 49, 6 Zahlen werden ohne Zurücklegen gezogen) genau 2 Zahlen richtig erratet.\n",
    "\n",
    "\n"
   ]
  },
  {
   "cell_type": "code",
   "execution_count": 59,
   "metadata": {},
   "outputs": [
    {
     "name": "stdout",
     "output_type": "stream",
     "text": [
      "Estimated probability: 1.0\n"
     ]
    }
   ],
   "source": [
    "n_simulations = 1000000\n",
    "\n",
    "correct_numbers_to_win = 2\n",
    "\n",
    "win_counts = []\n",
    "\n",
    "for _ in range(n_simulations):\n",
    "    drawn_numbers = set(random.sample(range(1, 50), 6))\n",
    "    \n",
    "    # Ziehen von 6 zufälligen Zahlen als Ihre \"Vorhersage\"\n",
    "    your_numbers = set(random.sample(range(1, 50), 6))\n",
    "    \n",
    "    correct_count = len(drawn_numbers.intersection(your_numbers))\n",
    "\n",
    "    if correct_numbers_to_win == correct_count:\n",
    "        win_counts.append(1)\n",
    "\n",
    "\n",
    "probability_estimated = np.mean(win_counts)\n",
    "\n",
    "print(f\"Estimated probability: {probability_estimated}\")"
   ]
  },
  {
   "cell_type": "markdown",
   "metadata": {},
   "source": [
    "# Exercise 15\n",
    "\n",
    "Man würfelt mit einem Würfel so lange bis das erste Mal die 6 auftaucht. Anhand von Simulationen schätze man: wie oft muss man im Mittel (durchschnittlich) würfeln bevor erstmals die 6 auftaucht?"
   ]
  },
  {
   "cell_type": "code",
   "execution_count": 64,
   "metadata": {},
   "outputs": [
    {
     "name": "stdout",
     "output_type": "stream",
     "text": [
      "Estimated mean number of dice rolls: 6.0186\n"
     ]
    }
   ],
   "source": [
    "n_simulations = 10000\n",
    "\n",
    "dice_rolls = []\n",
    "\n",
    "for _ in range(n_simulations):\n",
    "    diceroll = 0\n",
    "    while True:\n",
    "        diceroll += 1\n",
    "        dice = random.randint(1, 6)\n",
    "        if dice == 6:\n",
    "            break\n",
    "\n",
    "    dice_rolls.append(diceroll)\n",
    "\n",
    "mean_dice_rolls = np.mean(dice_rolls)\n",
    "\n",
    "print(f\"Estimated mean number of dice rolls: {mean_dice_rolls}\")"
   ]
  },
  {
   "cell_type": "markdown",
   "metadata": {},
   "source": [
    "# Exercise 16\n",
    "\n",
    "Sei X eine binomialverteile Zufallsgröße mit Parametern n=10, p=0.3. Man simuliere 1000 zufällige Werte für X. Man schätze \n",
    "- a) die Wahrscheinlichkeit, dass P(3< X< 7) \n",
    "- b) den Erwartungswert von X\n",
    "- c) die Varianz von X. Man vergleiche die erhaltenen Ergebnisse mit den theoretischen Werten."
   ]
  },
  {
   "cell_type": "code",
   "execution_count": 65,
   "metadata": {},
   "outputs": [
    {
     "name": "stdout",
     "output_type": "stream",
     "text": [
      "Estimated probability: 0.3394\n",
      "Estimated expected value: 2.9961\n",
      "Estimated variance: 2.0986847900000005\n",
      "Theoretical expected value: 3.0\n",
      "Theoretical variance: 2.0999999999999996\n",
      "Theoretical probability between 3 and 7: 0.33979720319999984\n"
     ]
    }
   ],
   "source": [
    "n = 10\n",
    "p = 0.3 \n",
    "n_simulations = 10000\n",
    "\n",
    "count_between_3_and_7 = 0\n",
    "\n",
    "for _ in range(n_simulations):\n",
    "    x = np.random.binomial(n, p)\n",
    "    if 3 < x < 7:\n",
    "        count_between_3_and_7 += 1\n",
    "\n",
    "probability_estimated = count_between_3_and_7 / n_simulations\n",
    "\n",
    "simulated_X_values = [np.random.binomial(n, p) for _ in range(n_simulations)]\n",
    "estimated_expected_value = np.mean(simulated_X_values)\n",
    "\n",
    "estimated_variance = np.var(simulated_X_values)\n",
    "\n",
    "#Theoretical expected value\n",
    "theoretical_expected_value = n * p\n",
    "theoretical_variance = n * p * (1 - p)\n",
    "theoretical_probability_between_3_and_7 = sum(binom.pmf(k, n, p) for k in range(4, 7))\n",
    "\n",
    "print(f\"Estimated probability: {probability_estimated}\")\n",
    "print(f\"Estimated expected value: {estimated_expected_value}\")\n",
    "print(f\"Estimated variance: {estimated_variance}\")\n",
    "\n",
    "print(f\"Theoretical expected value: {theoretical_expected_value}\")\n",
    "print(f\"Theoretical variance: {theoretical_variance}\")\n",
    "print(f\"Theoretical probability between 3 and 7: {theoretical_probability_between_3_and_7}\")"
   ]
  },
  {
   "cell_type": "markdown",
   "metadata": {},
   "source": [
    "# Exercise 17\n",
    "\n",
    "Einer von zwei Kandidaten (A und B) soll als Bürgermeister einer Stadt gewählt werden. Es ist bekannt dass Kandidat A 46% Chancen hat. Man simuliere Daten, die als Ergebnisse einer Umfrage sind, an der 500 Bürger einer Stadt befragt werden. Man schätze die Wahrscheinlichkeit, dass anhand der Daten mehr als 235 Bürger Kandidat A wählen möchten.\n"
   ]
  },
  {
   "cell_type": "code",
   "execution_count": 73,
   "metadata": {},
   "outputs": [
    {
     "name": "stdout",
     "output_type": "stream",
     "text": [
      "Estimated probability: 0.3196\n"
     ]
    }
   ],
   "source": [
    "n_simulations = 10000\n",
    "\n",
    "n_asked = 500\n",
    "p_candidate_A = 0.46\n",
    "\n",
    "count_more_than_235 = 0\n",
    "\n",
    "for _ in range(n_simulations):\n",
    "    \n",
    "    ask_results = [random.random() < p_candidate_A for _ in range(n_asked)]\n",
    "\n",
    "    votes_for_A = sum(ask_results)\n",
    "\n",
    "    if votes_for_A > 235:\n",
    "        count_more_than_235 += 1\n",
    "\n",
    "probability_estimated = count_more_than_235 / n_simulations\n",
    "\n",
    "print(f\"Estimated probability: {probability_estimated}\")"
   ]
  },
  {
   "cell_type": "markdown",
   "metadata": {},
   "source": [
    "# Exercise 18\n",
    "\n",
    "Die Niederschlagsmenge (im Monat September) in einer bestimmten Region ist normal-verteilt und ist im Durchschnitt 60 Liter/Quadratmeter mit einer Standardabweichung von 5 Liter/Quadratmeter. Man simuliere 1000 (solche) statistische Daten. Man schätze anhand der Daten, die Wahrscheinlichkeit, dass die Niederschlagsmenge mehr als 55 Liter/Quadratmeter ist. Man vergleiche das geschätzte Ergebnis mit dem theoretischen Wert.\n"
   ]
  },
  {
   "cell_type": "code",
   "execution_count": 81,
   "metadata": {},
   "outputs": [
    {
     "name": "stdout",
     "output_type": "stream",
     "text": [
      "Estimated probability: 0.84\n",
      "Theoretical probability: 0.8413447460685429\n"
     ]
    }
   ],
   "source": [
    "mean = 60\n",
    "std_dev = 5\n",
    "\n",
    "n_simulations = 1000\n",
    "\n",
    "count_more_than_55 = 0\n",
    "\n",
    "for _ in range(n_simulations):\n",
    "\n",
    "    simulated_value = np.random.normal(mean, std_dev)\n",
    "\n",
    "    if simulated_value > 55:\n",
    "        count_more_than_55 += 1\n",
    "\n",
    "probability_estimated = count_more_than_55 / n_simulations\n",
    "\n",
    "print(f\"Estimated probability: {probability_estimated}\")\n",
    "\n",
    "theoretical_probability_more_than_55 = 1 - norm.cdf(55, loc=mean, scale=std_dev)\n",
    "\n",
    "print(f\"Theoretical probability: {theoretical_probability_more_than_55}\")"
   ]
  },
  {
   "cell_type": "markdown",
   "metadata": {},
   "source": [
    "# Exercise 19\n",
    "\n",
    "Bei einem Tenniswettbewerb gewinnt Spieler A in jedem Spiel mit einer Wahrscheinlichkeit von 60% gegen Spieler B. Der Spieler, der als erster 3 Spiele gewonnen hat, hat auch den Wettbewerb gewonnen. Man schätze anhand von N=2000 Simulationen die Gewinnwahrscheinlichkeiten des Wettbewerbs für Spieler A bzw. Spieler B.\n",
    "(zB: BAABA → A hat gewonnen nach 5 Spielen; ABBAB → B hat gewonnen nach 5 Spielen; ABBB → B hat gewonnen nach 4 Spielen; BBB → B hat gewonnen nach 3 Spielen usw.)\n"
   ]
  },
  {
   "cell_type": "code",
   "execution_count": 82,
   "metadata": {},
   "outputs": [
    {
     "name": "stdout",
     "output_type": "stream",
     "text": [
      "Estimated probability that A wins: 0.683\n",
      "Estimated probability that B wins: 0.317\n"
     ]
    }
   ],
   "source": [
    "n_simulations = 2000\n",
    "\n",
    "p_a_wins = 0.6\n",
    "\n",
    "number_of_games = 3\n",
    "\n",
    "wins_a = 0\n",
    "wins_b = 0\n",
    "\n",
    "for _ in range(n_simulations):\n",
    "    games_a = 0\n",
    "    games_b = 0\n",
    "\n",
    "    while games_a < number_of_games and games_b < number_of_games:\n",
    "        if random.random() < p_a_wins:\n",
    "            games_a += 1\n",
    "        else:\n",
    "            games_b += 1\n",
    "\n",
    "\n",
    "    if games_a == number_of_games:\n",
    "        wins_a += 1\n",
    "    else:\n",
    "        wins_b += 1\n",
    "\n",
    "probability_estimated_a = wins_a / n_simulations\n",
    "probability_estimated_b = wins_b / n_simulations\n",
    "\n",
    "print(f\"Estimated probability that A wins: {probability_estimated_a}\")\n",
    "print(f\"Estimated probability that B wins: {probability_estimated_b}\")"
   ]
  },
  {
   "cell_type": "markdown",
   "metadata": {},
   "source": [
    "# Exercise 20\n",
    "\n",
    "Ein „Glücksrad“ hat vier gleichgroße Felder. Eines davon ist das Gewinnfeld. Wie groß ist die Wahrscheinlichkeit, dass beim viermaligen Drehen mindestens einmal ein Gewinn gedreht wird? (Antwort anhand Simulationen)\n",
    "Welche ist die theoretische Wahrscheinlichkeitsverteilung der Zufallsgröße X: Anzahl Gewinne in 4 Drehungen des Glücksrads."
   ]
  },
  {
   "cell_type": "code",
   "execution_count": 84,
   "metadata": {},
   "outputs": [
    {
     "name": "stdout",
     "output_type": "stream",
     "text": [
      "Estimated probability: 0.6788\n"
     ]
    }
   ],
   "source": [
    "n_simulations = 10000\n",
    "\n",
    "number_of_sectors = 4 \n",
    "\n",
    "number_of_spins = 4\n",
    "\n",
    "wins = 0\n",
    "\n",
    "for _ in range(n_simulations):\n",
    "\n",
    "    spins = [random.randint(1, number_of_sectors) for _ in range(number_of_spins)]\n",
    "\n",
    "    if 1 in spins:\n",
    "        wins += 1\n",
    "\n",
    "win_probability = wins / n_simulations\n",
    "\n",
    "print(f\"Estimated probability: {win_probability}\")"
   ]
  },
  {
   "cell_type": "markdown",
   "metadata": {},
   "source": [
    "# Exercise 21\n",
    "\n",
    "Peter trifft erfahrungsgemäß bei 85 % seiner Torschüsse vom Elfmeterpunkt. Wie groß ist die Wahrscheinlichkeit, dass er bei drei Versuchen mindestens einmal daneben schießt? (Antwort anhand Simulationen)\n",
    "Welche ist die theoretische Wahrscheinlichkeitsverteilung der Zufallsgröße X: Anzahl der getroffenen Torschüsse von Peter vom Elfmeterpunkt in 3 Versuchen?"
   ]
  },
  {
   "cell_type": "code",
   "execution_count": 88,
   "metadata": {},
   "outputs": [
    {
     "name": "stdout",
     "output_type": "stream",
     "text": [
      "Estimated probability: 0.3961\n"
     ]
    }
   ],
   "source": [
    "n_simulations = 10000\n",
    "\n",
    "p_scoring = 0.85\n",
    "\n",
    "number_of_attempts = 3\n",
    "\n",
    "misses_at_least_once = 0\n",
    "\n",
    "\n",
    "for _ in range(n_simulations):\n",
    "\n",
    "    attempts = [random.random() > p_scoring for _ in range(number_of_attempts)]\n",
    "\n",
    "    if any(attempts):\n",
    "        misses_at_least_once += 1\n",
    "\n",
    "miss_probability = misses_at_least_once / n_simulations\n",
    "\n",
    "print(f\"Estimated probability: {miss_probability}\")"
   ]
  },
  {
   "cell_type": "markdown",
   "metadata": {},
   "source": [
    "# Exercise 23\n",
    "\n",
    " In einer Lostrommel sind 10 Gewinnlose und 30 Nieten. Wie groß ist die Wahrscheinlichkeit,\n",
    "dass man bei dreimaligem Ziehen \n",
    "- a) mindestens ein Gewinnlos zieht? \n",
    "- b) nur Nieten zieht? Welche ist die theoretische Wahrscheinlichkeitsverteilung der Zufallsgröße X: Anzahl der Gewinnlose beim dreimaligen Ziehen?\n"
   ]
  },
  {
   "cell_type": "code",
   "execution_count": 90,
   "metadata": {},
   "outputs": [
    {
     "name": "stdout",
     "output_type": "stream",
     "text": [
      "Probability of at least one winner: 0.5890688259109311\n",
      "Probability of only losers: 0.012145748987854253\n"
     ]
    }
   ],
   "source": [
    "M = 40\n",
    "n_winning_tickets = 10\n",
    "n_blanks = 30\n",
    "n_draws = 3\n",
    "\n",
    "probabability_at_least_one_winner = 1 - hypergeom.cdf(0, M, n_winning_tickets, n_draws)\n",
    "\n",
    "probability_only_losers = hypergeom.pmf(0, M, n_blanks, n_draws)\n",
    "\n",
    "print(f\"Probability of at least one winner: {probabability_at_least_one_winner}\")\n",
    "print(f\"Probability of only losers: {probability_only_losers}\")"
   ]
  },
  {
   "cell_type": "markdown",
   "metadata": {},
   "source": [
    "# Exercise 24\n",
    "\n",
    "Tom schießt auf eine Zielscheibe, und die Wahrscheinlichkeit, mit der sein Schuss die Zielscheibe trifft, beträgt p=0.3 (leider ist Tom kein geübter Schütze). Er möchte die Wahrscheinlichkeit für die Anzahl X der Schüsse wissen, bis (inklusiv) er zum ersten Mal die Zielscheibe trifft.\n",
    "- (1) Man zeichne das Histogramm der absoluten Häufigkeiten für die Zufallsgröße X.\n",
    "- (2) Man bestimme wie viele Schüsse durchschnittlich geschossen werden bis Tom die Zielscheibe trifft. \n",
    "- (3) Man schätze P(X<5) und vergleiche diese mit der theoretischen Wahrscheinlichkeit."
   ]
  },
  {
   "cell_type": "code",
   "execution_count": 95,
   "metadata": {},
   "outputs": [
    {
     "data": {
      "image/png": "[encoded data removed]",
      "text/plain": [
       "<Figure size 640x480 with 1 Axes>"
      ]
     },
     "metadata": {},
     "output_type": "display_data"
    },
    {
     "name": "stdout",
     "output_type": "stream",
     "text": [
      "Estimated mean shots needed: 2.459\n",
      "Estimated probability of less than 5 shots: 0.827\n",
      "Theoretical probability of less than 5 shots: 0.7599\n"
     ]
    }
   ],
   "source": [
    "p = 0.3\n",
    "\n",
    "n_simulations = 1000\n",
    "\n",
    "\n",
    "shots_needed = []\n",
    "\n",
    "for _ in range(n_simulations):\n",
    "    shots = 0\n",
    "    while random.random() > p:\n",
    "        shots += 1\n",
    "    shots_needed.append(shots)\n",
    "\n",
    "plt.hist(shots_needed, bins=max(shots_needed), density=True, rwidth=0.8, alpha=0.75, color='turquoise', edgecolor='black')\n",
    "plt.xlabel('Shots needed')\n",
    "plt.ylabel('Probability')\n",
    "plt.title('Histogram of shots needed')\n",
    "plt.show()\n",
    "\n",
    "mean_shots_needed = np.mean(shots_needed)\n",
    "print(f\"Estimated mean shots needed: {mean_shots_needed}\")\n",
    "\n",
    "count_less_than_5 = sum(1 for shots in shots_needed if shots < 5)\n",
    "estimated_probability_less_than_5 = count_less_than_5 / n_simulations\n",
    "\n",
    "print(f\"Estimated probability of less than 5 shots: {estimated_probability_less_than_5}\")\n",
    "\n",
    "\n",
    "# theoretical_probability_less_than_5 = sum(binom.pmf(k, 5, p) for k in range(5))\n",
    "\n",
    "theoretical_probability_less_than_5 = sum((1 - p)**k * p for k in range(4))\n",
    "\n",
    "\n",
    "print(f\"Theoretical probability of less than 5 shots: {theoretical_probability_less_than_5}\")"
   ]
  },
  {
   "cell_type": "code",
   "execution_count": null,
   "metadata": {},
   "outputs": [],
   "source": []
  }
 ],
 "metadata": {
  "kernelspec": {
   "display_name": "tensyflow",
   "language": "python",
   "name": "python3"
  },
  "language_info": {
   "codemirror_mode": {
    "name": "ipython",
    "version": 3
   },
   "file_extension": ".py",
   "mimetype": "text/x-python",
   "name": "python",
   "nbconvert_exporter": "python",
   "pygments_lexer": "ipython3",
   "version": "3.10.13"
  }
 },
 "nbformat": 4,
 "nbformat_minor": 2
}
